{
  "cells": [
    {
      "cell_type": "markdown",
      "metadata": {},
      "source": "# Quiz 3 — Plot and Integrate $f(x,y)=e^{-x^2-y^2}$ on $[-1,1]^2$"
    },
    {
      "cell_type": "markdown",
      "metadata": {},
      "source": "**Tasks**: (1) Plot surface/heatmap. (2) Compute $\\iint f(x,y)\\,dx\\,dy$ analytically and numerically."
    },
    {
      "cell_type": "code",
      "metadata": {},
      "source": "\nimport math\nimport numpy as np\nimport matplotlib.pyplot as plt\nfrom matplotlib import cm\nfrom mpl_toolkits.mplot3d import Axes3D  # noqa: F401\n\n# function and grid\ndef f_xy(x, y):\n    return np.exp(-x**2 - y**2)\n\nN = 401\nx = np.linspace(-1, 1, N)\ny = np.linspace(-1, 1, N)\nX, Y = np.meshgrid(x, y, indexing=\"xy\")\nZ = f_xy(X, Y)\n\n# surface\nfig = plt.figure(figsize=(7,5))\nax = fig.add_subplot(111, projection='3d')\nax.plot_surface(X, Y, Z, linewidth=0, antialiased=True)\nax.set_xlabel('x'); ax.set_ylabel('y'); ax.set_zlabel('f(x,y)')\nax.set_title('Surface of $f(x,y)=e^{-x^2-y^2}$ on $[-1,1]^2$')\nplt.show()\n\n# heatmap\nplt.figure(figsize=(6,5))\nplt.imshow(Z, extent=[x.min(), x.max(), y.min(), y.max()], origin='lower', aspect='equal')\nplt.colorbar(label='f(x,y)')\nplt.xlabel('x'); plt.ylabel('y')\nplt.title('Heatmap of $f(x,y)=e^{-x^2-y^2}$ on $[-1,1]^2$')\nplt.show()\n\n# integral\nanalytic_1d = math.sqrt(math.pi) * math.erf(1.0)\nanalytic = analytic_1d ** 2\n\nnum_x = np.trapz(Z, x=x, axis=1)\nnumeric = np.trapz(num_x, x=y)\n\nprint(f\"Analytic  ∫∫ = {analytic:.10f}   (π * erf(1)^2)\")\nprint(f\"Numeric   ∫∫ = {numeric:.10f}   (composite trapezoid on {N}×{N} grid)\")\nprint(f\"Abs error     = {abs(analytic - numeric):.3e}\")\nprint(f\"Rel error     = {abs(analytic - numeric)/analytic:.3e}\")\n",
      "outputs": [],
      "execution_count": null
    }
  ],
  "metadata": {
    "kernelspec": {
      "display_name": "Python 3",
      "language": "python",
      "name": "python3"
    },
    "language_info": {
      "name": "python",
      "version": "3.12"
    }
  },
  "nbformat": 4,
  "nbformat_minor": 5
}